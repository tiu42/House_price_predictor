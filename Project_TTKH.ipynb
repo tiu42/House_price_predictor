{
  "cells": [
    {
      "cell_type": "markdown",
      "metadata": {
        "id": "view-in-github",
        "colab_type": "text"
      },
      "source": [
        "<a href=\"https://colab.research.google.com/github/tiu42/House_pricing_predictor/blob/main/Project_TTKH.ipynb\" target=\"_parent\"><img src=\"https://colab.research.google.com/assets/colab-badge.svg\" alt=\"Open In Colab\"/></a>"
      ]
    },
    {
      "cell_type": "code",
      "execution_count": null,
      "metadata": {
        "id": "WKiJV99we4MK"
      },
      "outputs": [],
      "source": [
        "# Import thu vien\n",
        "import numpy as np\n",
        "import pandas as pd"
      ]
    },
    {
      "cell_type": "code",
      "execution_count": null,
      "metadata": {
        "id": "YvCBStIih5Wd"
      },
      "outputs": [],
      "source": [
        "# Doc du lieu train\n",
        "df = pd.read_csv('Train_data.csv')\n",
        "\n",
        "# Tranh dummy variable trap\n",
        "X_train = df.iloc[:,1:-2].values\n",
        "y_train = df.iloc[:,-1].values\n",
        "y_train = y_train.reshape(y_train.shape[0],1)"
      ]
    },
    {
      "cell_type": "code",
      "source": [
        "# Doc du lieu test\n",
        "df2 = pd.read_csv('Test_data.csv')\n",
        "\n",
        "# Tranh dummy variable trap\n",
        "X_test = df2.iloc[:,1:-2].values\n",
        "y_test = df2.iloc[:,-1].values\n",
        "y_test = y_test.reshape(y_test.shape[0],1)"
      ],
      "metadata": {
        "id": "7ldukOhk21vh"
      },
      "execution_count": null,
      "outputs": []
    },
    {
      "cell_type": "code",
      "execution_count": null,
      "metadata": {
        "id": "NszekKWTZfQ9"
      },
      "outputs": [],
      "source": [
        "# Dat x0 = 1\n",
        "X_train = np.vstack((np.ones((X_train.shape[0], )), X_train.T)).T\n",
        "X_test = np.vstack((np.ones((X_test.shape[0], )), X_test.T)).T"
      ]
    },
    {
      "cell_type": "code",
      "execution_count": null,
      "metadata": {
        "id": "X1jbxmqSVS80"
      },
      "outputs": [],
      "source": [
        "# Mo hinh hqtt\n",
        "def model(X, Y, learning_rate, iteration, beta):\n",
        "  m = Y.size\n",
        "  theta = np.zeros((X.shape[1], 1))\n",
        "  velocity = theta\n",
        "  for i in range(iteration + 1):\n",
        "    y_pred = np.dot(X, theta)\n",
        "    cost = (1/(2*m))*np.sum(np.square(y_pred - Y))\n",
        "    d_theta = (1/m)*np.dot(X.T, y_pred - Y)\n",
        "    velocity = beta*velocity + (1-beta)*d_theta\n",
        "    theta = theta - learning_rate*velocity\n",
        "    if(i%75000 == 0):\n",
        "      print(f'Iteration {i}: cost = {cost}')\n",
        "  return theta"
      ]
    },
    {
      "cell_type": "code",
      "execution_count": null,
      "metadata": {
        "id": "Szc3ixx-ahMs",
        "colab": {
          "base_uri": "https://localhost:8080/"
        },
        "outputId": "72c0bf39-3fe0-4eb7-a459-520de5be6916"
      },
      "outputs": [
        {
          "output_type": "stream",
          "name": "stdout",
          "text": [
            "Iteration 0: cost = 207.2421875\n",
            "Iteration 75000: cost = 9.498622884460884\n",
            "Iteration 150000: cost = 9.498226112610224\n",
            "Iteration 225000: cost = 9.498216395586523\n",
            "Iteration 300000: cost = 9.49821615760672\n",
            "Iteration 375000: cost = 9.498216151778355\n",
            "Iteration 450000: cost = 9.498216151635608\n",
            "Iteration 525000: cost = 9.498216151632114\n",
            "Iteration 600000: cost = 9.49821615163203\n",
            "Iteration 675000: cost = 9.498216151632025\n",
            "Iteration 750000: cost = 9.498216151632027\n"
          ]
        }
      ],
      "source": [
        "# Khoi tao cac tham so & bat dau train\n",
        "iteration = 750000\n",
        "learning_rate = 0.001\n",
        "beta = 0.9\n",
        "theta = model(X_train, y_train, learning_rate = learning_rate, iteration =\n",
        "iteration, beta = beta)"
      ]
    },
    {
      "cell_type": "code",
      "source": [
        "# Danh gia mo hinh tren du lieu test\n",
        "y_pred = np.dot(X_test, theta)\n",
        "sum = 0\n",
        "sai_so_trung_binh = 0\n",
        "for i in range(0, y_pred.shape[0]-1):\n",
        "  du_doan = y_pred[i][0]\n",
        "  thuc_te = y_test[i][0]\n",
        "  sai_so = abs(du_doan - thuc_te)\n",
        "  sum+=sai_so\n",
        "  print(f'Giá thuê dự đoán: {du_doan:.2f} triệu VND')\n",
        "  print(f'Giá thực tế : {thuc_te:.2f} triệu VND')\n",
        "  print(f'Sai số: {sai_so:.2f} triệu VND')\n",
        "  print('----------')\n",
        "sai_so_trung_binh = sum/20\n",
        "print(f'Sai số trung bình: {sai_so_trung_binh:.2f} triệu VND')"
      ],
      "metadata": {
        "colab": {
          "base_uri": "https://localhost:8080/"
        },
        "id": "lzhQNq9G4WjE",
        "outputId": "853fc2fb-58ef-4351-c742-5c75e38ca4bd"
      },
      "execution_count": null,
      "outputs": [
        {
          "output_type": "stream",
          "name": "stdout",
          "text": [
            "Giá thuê dự đoán: 13.73 triệu VND\n",
            "Giá thực tế : 11.50 triệu VND\n",
            "Sai số: 2.23 triệu VND\n",
            "----------\n",
            "Giá thuê dự đoán: 13.74 triệu VND\n",
            "Giá thực tế : 13.00 triệu VND\n",
            "Sai số: 0.74 triệu VND\n",
            "----------\n",
            "Giá thuê dự đoán: 21.46 triệu VND\n",
            "Giá thực tế : 19.00 triệu VND\n",
            "Sai số: 2.46 triệu VND\n",
            "----------\n",
            "Giá thuê dự đoán: 23.52 triệu VND\n",
            "Giá thực tế : 21.50 triệu VND\n",
            "Sai số: 2.02 triệu VND\n",
            "----------\n",
            "Giá thuê dự đoán: 15.28 triệu VND\n",
            "Giá thực tế : 19.00 triệu VND\n",
            "Sai số: 3.72 triệu VND\n",
            "----------\n",
            "Giá thuê dự đoán: 16.54 triệu VND\n",
            "Giá thực tế : 18.50 triệu VND\n",
            "Sai số: 1.96 triệu VND\n",
            "----------\n",
            "Giá thuê dự đoán: 9.12 triệu VND\n",
            "Giá thực tế : 11.50 triệu VND\n",
            "Sai số: 2.38 triệu VND\n",
            "----------\n",
            "Giá thuê dự đoán: 29.19 triệu VND\n",
            "Giá thực tế : 30.00 triệu VND\n",
            "Sai số: 0.81 triệu VND\n",
            "----------\n",
            "Giá thuê dự đoán: 16.88 triệu VND\n",
            "Giá thực tế : 18.00 triệu VND\n",
            "Sai số: 1.12 triệu VND\n",
            "----------\n",
            "Giá thuê dự đoán: 17.83 triệu VND\n",
            "Giá thực tế : 17.50 triệu VND\n",
            "Sai số: 0.33 triệu VND\n",
            "----------\n",
            "Giá thuê dự đoán: 27.76 triệu VND\n",
            "Giá thực tế : 24.00 triệu VND\n",
            "Sai số: 3.76 triệu VND\n",
            "----------\n",
            "Giá thuê dự đoán: 32.97 triệu VND\n",
            "Giá thực tế : 43.00 triệu VND\n",
            "Sai số: 10.03 triệu VND\n",
            "----------\n",
            "Giá thuê dự đoán: 13.69 triệu VND\n",
            "Giá thực tế : 18.00 triệu VND\n",
            "Sai số: 4.31 triệu VND\n",
            "----------\n",
            "Giá thuê dự đoán: 26.13 triệu VND\n",
            "Giá thực tế : 25.00 triệu VND\n",
            "Sai số: 1.13 triệu VND\n",
            "----------\n",
            "Giá thuê dự đoán: 13.46 triệu VND\n",
            "Giá thực tế : 12.00 triệu VND\n",
            "Sai số: 1.46 triệu VND\n",
            "----------\n",
            "Giá thuê dự đoán: 14.40 triệu VND\n",
            "Giá thực tế : 12.00 triệu VND\n",
            "Sai số: 2.40 triệu VND\n",
            "----------\n",
            "Giá thuê dự đoán: 19.25 triệu VND\n",
            "Giá thực tế : 17.00 triệu VND\n",
            "Sai số: 2.25 triệu VND\n",
            "----------\n",
            "Giá thuê dự đoán: 26.02 triệu VND\n",
            "Giá thực tế : 30.00 triệu VND\n",
            "Sai số: 3.98 triệu VND\n",
            "----------\n",
            "Giá thuê dự đoán: 17.18 triệu VND\n",
            "Giá thực tế : 13.00 triệu VND\n",
            "Sai số: 4.18 triệu VND\n",
            "----------\n",
            "Sai số trung bình: 2.56 triệu VND\n"
          ]
        }
      ]
    },
    {
      "cell_type": "code",
      "source": [
        "# Giao dien\n",
        "import ipywidgets as widgets\n",
        "from IPython.display import display\n",
        "# Create dropdowns for location\n",
        "location = widgets.Dropdown(\n",
        "    options=['Hai Bà Trưng', 'Thanh Xuân', 'Đống Đa', 'Hoàn Kiếm', 'Cầu Giấy'],\n",
        "    description='Địa chỉ:',\n",
        ")\n",
        "# Create input fields for area, rooms, and interior\n",
        "area = widgets.IntText(\n",
        "    value=50,\n",
        "    description='Diện tích (m2):',\n",
        ")\n",
        "rooms = widgets.IntText(\n",
        "    value=1,\n",
        "    description='Số phòng ngủ:',\n",
        ")\n",
        "interior = widgets.Dropdown(\n",
        "    options=[('Cơ bản', 0), ('Đầy đủ', 1)],\n",
        "    description='Nội thất:',\n",
        ")\n",
        "# Button to make prediction\n",
        "button = widgets.Button(description='Dự đoán giá thuê')\n",
        "# Output widget to display result\n",
        "output = widgets.Output()\n",
        "def predict_rent(b):\n",
        "    with output:\n",
        "        output.clear_output()\n",
        "        # Create a single row of data for prediction\n",
        "        input_data = {\n",
        "            'Thanh Xuân': 1 if location.value == 'Thanh Xuân' else 0,\n",
        "            'Đống Đa': 1 if location.value == 'Đống Đa' else 0,\n",
        "            'Hoàn Kiếm': 1 if location.value == 'Hoàn Kiếm' else 0,\n",
        "            'Cầu Giấy': 1 if location.value == 'Cầu Giấy' else 0,\n",
        "            'Diện tích': area.value,\n",
        "            'Số phòng ngủ': rooms.value,\n",
        "            'Nội thất': interior.value,\n",
        "        }\n",
        "        input_df = [1.0]\n",
        "        for p in list(input_data.values()):\n",
        "          input_df.append(float(p))\n",
        "\n",
        "        # Predict the rent\n",
        "        predicted_rent = np.dot(input_df,theta)\n",
        "        print(f'Giá thuê dự đoán: {predicted_rent[0]:.2f} triệu VND')\n",
        "\n",
        "\n",
        "button.on_click(predict_rent)\n",
        "\n",
        "# Display the widgets\n",
        "display(location, area, rooms, interior, button, output)"
      ],
      "metadata": {
        "colab": {
          "base_uri": "https://localhost:8080/",
          "height": 188,
          "referenced_widgets": [
            "4caa0787bff045a3985f003469e4fd20",
            "9c4db76bfe544d5f98dce55436677112",
            "b1196fae26f74a5bafcead6fca723c2b",
            "a8db6abaa3534e868a1da512e76dee12",
            "ae0c26a564a649fba1e6e6459ac753da",
            "be74df4c8b4b4c56b5ef2326d3d20613",
            "bfbfe01168364dd69867cf3e8185cbcb",
            "e3a72c37a7da4845ac745dfe11b34168",
            "1d569675a5574ac2a6a5e58f5c774265",
            "3a3349f67d584a63aedeef6703750a44",
            "e19e8e7d6e75406ebc31b4bd08909bc3",
            "b5cf28c8c07b4004be397d4eb121c73e",
            "01523c8635ab4adeac9acbf60175fce1",
            "584baa5a391343a5801ba5338fcb9f55",
            "eea10885cae24184a48e2d92b00ef0a0",
            "478d14776f174fcd847276c3e53ed01f",
            "665f4a821c7f4492ae9569b005b92962"
          ]
        },
        "id": "9P4RSyg5Y34T",
        "outputId": "86be5c7c-5de7-4cb6-dcf0-9dda414c7a39"
      },
      "execution_count": null,
      "outputs": [
        {
          "output_type": "display_data",
          "data": {
            "text/plain": [
              "Dropdown(description='Địa chỉ:', options=('Hai Bà Trưng', 'Thanh Xuân', 'Đống Đa', 'Hoàn Kiếm', 'Cầu Giấy'), v…"
            ],
            "application/vnd.jupyter.widget-view+json": {
              "version_major": 2,
              "version_minor": 0,
              "model_id": "4caa0787bff045a3985f003469e4fd20"
            }
          },
          "metadata": {}
        },
        {
          "output_type": "display_data",
          "data": {
            "text/plain": [
              "IntText(value=50, description='Diện tích (m2):')"
            ],
            "application/vnd.jupyter.widget-view+json": {
              "version_major": 2,
              "version_minor": 0,
              "model_id": "a8db6abaa3534e868a1da512e76dee12"
            }
          },
          "metadata": {}
        },
        {
          "output_type": "display_data",
          "data": {
            "text/plain": [
              "IntText(value=1, description='Số phòng ngủ:')"
            ],
            "application/vnd.jupyter.widget-view+json": {
              "version_major": 2,
              "version_minor": 0,
              "model_id": "bfbfe01168364dd69867cf3e8185cbcb"
            }
          },
          "metadata": {}
        },
        {
          "output_type": "display_data",
          "data": {
            "text/plain": [
              "Dropdown(description='Nội thất:', options=(('Cơ bản', 0), ('Đầy đủ', 1)), value=0)"
            ],
            "application/vnd.jupyter.widget-view+json": {
              "version_major": 2,
              "version_minor": 0,
              "model_id": "3a3349f67d584a63aedeef6703750a44"
            }
          },
          "metadata": {}
        },
        {
          "output_type": "display_data",
          "data": {
            "text/plain": [
              "Button(description='Dự đoán giá thuê', style=ButtonStyle())"
            ],
            "application/vnd.jupyter.widget-view+json": {
              "version_major": 2,
              "version_minor": 0,
              "model_id": "01523c8635ab4adeac9acbf60175fce1"
            }
          },
          "metadata": {}
        },
        {
          "output_type": "display_data",
          "data": {
            "text/plain": [
              "Output()"
            ],
            "application/vnd.jupyter.widget-view+json": {
              "version_major": 2,
              "version_minor": 0,
              "model_id": "478d14776f174fcd847276c3e53ed01f"
            }
          },
          "metadata": {}
        }
      ]
    }
  ],
  "metadata": {
    "colab": {
      "provenance": [],
      "authorship_tag": "ABX9TyNO6vjuV9DJJhpvg2npORSE",
      "include_colab_link": true
    },
    "kernelspec": {
      "display_name": "Python 3",
      "name": "python3"
    },
    "language_info": {
      "name": "python"
    },
    "widgets": {
      "application/vnd.jupyter.widget-state+json": {
        "4caa0787bff045a3985f003469e4fd20": {
          "model_module": "@jupyter-widgets/controls",
          "model_name": "DropdownModel",
          "model_module_version": "1.5.0",
          "state": {
            "_dom_classes": [],
            "_model_module": "@jupyter-widgets/controls",
            "_model_module_version": "1.5.0",
            "_model_name": "DropdownModel",
            "_options_labels": [
              "Hai Bà Trưng",
              "Thanh Xuân",
              "Đống Đa",
              "Hoàn Kiếm",
              "Cầu Giấy"
            ],
            "_view_count": null,
            "_view_module": "@jupyter-widgets/controls",
            "_view_module_version": "1.5.0",
            "_view_name": "DropdownView",
            "description": "Địa chỉ:",
            "description_tooltip": null,
            "disabled": false,
            "index": 1,
            "layout": "IPY_MODEL_9c4db76bfe544d5f98dce55436677112",
            "style": "IPY_MODEL_b1196fae26f74a5bafcead6fca723c2b"
          }
        },
        "9c4db76bfe544d5f98dce55436677112": {
          "model_module": "@jupyter-widgets/base",
          "model_name": "LayoutModel",
          "model_module_version": "1.2.0",
          "state": {
            "_model_module": "@jupyter-widgets/base",
            "_model_module_version": "1.2.0",
            "_model_name": "LayoutModel",
            "_view_count": null,
            "_view_module": "@jupyter-widgets/base",
            "_view_module_version": "1.2.0",
            "_view_name": "LayoutView",
            "align_content": null,
            "align_items": null,
            "align_self": null,
            "border": null,
            "bottom": null,
            "display": null,
            "flex": null,
            "flex_flow": null,
            "grid_area": null,
            "grid_auto_columns": null,
            "grid_auto_flow": null,
            "grid_auto_rows": null,
            "grid_column": null,
            "grid_gap": null,
            "grid_row": null,
            "grid_template_areas": null,
            "grid_template_columns": null,
            "grid_template_rows": null,
            "height": null,
            "justify_content": null,
            "justify_items": null,
            "left": null,
            "margin": null,
            "max_height": null,
            "max_width": null,
            "min_height": null,
            "min_width": null,
            "object_fit": null,
            "object_position": null,
            "order": null,
            "overflow": null,
            "overflow_x": null,
            "overflow_y": null,
            "padding": null,
            "right": null,
            "top": null,
            "visibility": null,
            "width": null
          }
        },
        "b1196fae26f74a5bafcead6fca723c2b": {
          "model_module": "@jupyter-widgets/controls",
          "model_name": "DescriptionStyleModel",
          "model_module_version": "1.5.0",
          "state": {
            "_model_module": "@jupyter-widgets/controls",
            "_model_module_version": "1.5.0",
            "_model_name": "DescriptionStyleModel",
            "_view_count": null,
            "_view_module": "@jupyter-widgets/base",
            "_view_module_version": "1.2.0",
            "_view_name": "StyleView",
            "description_width": ""
          }
        },
        "a8db6abaa3534e868a1da512e76dee12": {
          "model_module": "@jupyter-widgets/controls",
          "model_name": "IntTextModel",
          "model_module_version": "1.5.0",
          "state": {
            "_dom_classes": [],
            "_model_module": "@jupyter-widgets/controls",
            "_model_module_version": "1.5.0",
            "_model_name": "IntTextModel",
            "_view_count": null,
            "_view_module": "@jupyter-widgets/controls",
            "_view_module_version": "1.5.0",
            "_view_name": "IntTextView",
            "continuous_update": false,
            "description": "Diện tích (m2):",
            "description_tooltip": null,
            "disabled": false,
            "layout": "IPY_MODEL_ae0c26a564a649fba1e6e6459ac753da",
            "step": 1,
            "style": "IPY_MODEL_be74df4c8b4b4c56b5ef2326d3d20613",
            "value": 100
          }
        },
        "ae0c26a564a649fba1e6e6459ac753da": {
          "model_module": "@jupyter-widgets/base",
          "model_name": "LayoutModel",
          "model_module_version": "1.2.0",
          "state": {
            "_model_module": "@jupyter-widgets/base",
            "_model_module_version": "1.2.0",
            "_model_name": "LayoutModel",
            "_view_count": null,
            "_view_module": "@jupyter-widgets/base",
            "_view_module_version": "1.2.0",
            "_view_name": "LayoutView",
            "align_content": null,
            "align_items": null,
            "align_self": null,
            "border": null,
            "bottom": null,
            "display": null,
            "flex": null,
            "flex_flow": null,
            "grid_area": null,
            "grid_auto_columns": null,
            "grid_auto_flow": null,
            "grid_auto_rows": null,
            "grid_column": null,
            "grid_gap": null,
            "grid_row": null,
            "grid_template_areas": null,
            "grid_template_columns": null,
            "grid_template_rows": null,
            "height": null,
            "justify_content": null,
            "justify_items": null,
            "left": null,
            "margin": null,
            "max_height": null,
            "max_width": null,
            "min_height": null,
            "min_width": null,
            "object_fit": null,
            "object_position": null,
            "order": null,
            "overflow": null,
            "overflow_x": null,
            "overflow_y": null,
            "padding": null,
            "right": null,
            "top": null,
            "visibility": null,
            "width": null
          }
        },
        "be74df4c8b4b4c56b5ef2326d3d20613": {
          "model_module": "@jupyter-widgets/controls",
          "model_name": "DescriptionStyleModel",
          "model_module_version": "1.5.0",
          "state": {
            "_model_module": "@jupyter-widgets/controls",
            "_model_module_version": "1.5.0",
            "_model_name": "DescriptionStyleModel",
            "_view_count": null,
            "_view_module": "@jupyter-widgets/base",
            "_view_module_version": "1.2.0",
            "_view_name": "StyleView",
            "description_width": ""
          }
        },
        "bfbfe01168364dd69867cf3e8185cbcb": {
          "model_module": "@jupyter-widgets/controls",
          "model_name": "IntTextModel",
          "model_module_version": "1.5.0",
          "state": {
            "_dom_classes": [],
            "_model_module": "@jupyter-widgets/controls",
            "_model_module_version": "1.5.0",
            "_model_name": "IntTextModel",
            "_view_count": null,
            "_view_module": "@jupyter-widgets/controls",
            "_view_module_version": "1.5.0",
            "_view_name": "IntTextView",
            "continuous_update": false,
            "description": "Số phòng ngủ:",
            "description_tooltip": null,
            "disabled": false,
            "layout": "IPY_MODEL_e3a72c37a7da4845ac745dfe11b34168",
            "step": 1,
            "style": "IPY_MODEL_1d569675a5574ac2a6a5e58f5c774265",
            "value": 3
          }
        },
        "e3a72c37a7da4845ac745dfe11b34168": {
          "model_module": "@jupyter-widgets/base",
          "model_name": "LayoutModel",
          "model_module_version": "1.2.0",
          "state": {
            "_model_module": "@jupyter-widgets/base",
            "_model_module_version": "1.2.0",
            "_model_name": "LayoutModel",
            "_view_count": null,
            "_view_module": "@jupyter-widgets/base",
            "_view_module_version": "1.2.0",
            "_view_name": "LayoutView",
            "align_content": null,
            "align_items": null,
            "align_self": null,
            "border": null,
            "bottom": null,
            "display": null,
            "flex": null,
            "flex_flow": null,
            "grid_area": null,
            "grid_auto_columns": null,
            "grid_auto_flow": null,
            "grid_auto_rows": null,
            "grid_column": null,
            "grid_gap": null,
            "grid_row": null,
            "grid_template_areas": null,
            "grid_template_columns": null,
            "grid_template_rows": null,
            "height": null,
            "justify_content": null,
            "justify_items": null,
            "left": null,
            "margin": null,
            "max_height": null,
            "max_width": null,
            "min_height": null,
            "min_width": null,
            "object_fit": null,
            "object_position": null,
            "order": null,
            "overflow": null,
            "overflow_x": null,
            "overflow_y": null,
            "padding": null,
            "right": null,
            "top": null,
            "visibility": null,
            "width": null
          }
        },
        "1d569675a5574ac2a6a5e58f5c774265": {
          "model_module": "@jupyter-widgets/controls",
          "model_name": "DescriptionStyleModel",
          "model_module_version": "1.5.0",
          "state": {
            "_model_module": "@jupyter-widgets/controls",
            "_model_module_version": "1.5.0",
            "_model_name": "DescriptionStyleModel",
            "_view_count": null,
            "_view_module": "@jupyter-widgets/base",
            "_view_module_version": "1.2.0",
            "_view_name": "StyleView",
            "description_width": ""
          }
        },
        "3a3349f67d584a63aedeef6703750a44": {
          "model_module": "@jupyter-widgets/controls",
          "model_name": "DropdownModel",
          "model_module_version": "1.5.0",
          "state": {
            "_dom_classes": [],
            "_model_module": "@jupyter-widgets/controls",
            "_model_module_version": "1.5.0",
            "_model_name": "DropdownModel",
            "_options_labels": [
              "Cơ bản",
              "Đầy đủ"
            ],
            "_view_count": null,
            "_view_module": "@jupyter-widgets/controls",
            "_view_module_version": "1.5.0",
            "_view_name": "DropdownView",
            "description": "Nội thất:",
            "description_tooltip": null,
            "disabled": false,
            "index": 1,
            "layout": "IPY_MODEL_e19e8e7d6e75406ebc31b4bd08909bc3",
            "style": "IPY_MODEL_b5cf28c8c07b4004be397d4eb121c73e"
          }
        },
        "e19e8e7d6e75406ebc31b4bd08909bc3": {
          "model_module": "@jupyter-widgets/base",
          "model_name": "LayoutModel",
          "model_module_version": "1.2.0",
          "state": {
            "_model_module": "@jupyter-widgets/base",
            "_model_module_version": "1.2.0",
            "_model_name": "LayoutModel",
            "_view_count": null,
            "_view_module": "@jupyter-widgets/base",
            "_view_module_version": "1.2.0",
            "_view_name": "LayoutView",
            "align_content": null,
            "align_items": null,
            "align_self": null,
            "border": null,
            "bottom": null,
            "display": null,
            "flex": null,
            "flex_flow": null,
            "grid_area": null,
            "grid_auto_columns": null,
            "grid_auto_flow": null,
            "grid_auto_rows": null,
            "grid_column": null,
            "grid_gap": null,
            "grid_row": null,
            "grid_template_areas": null,
            "grid_template_columns": null,
            "grid_template_rows": null,
            "height": null,
            "justify_content": null,
            "justify_items": null,
            "left": null,
            "margin": null,
            "max_height": null,
            "max_width": null,
            "min_height": null,
            "min_width": null,
            "object_fit": null,
            "object_position": null,
            "order": null,
            "overflow": null,
            "overflow_x": null,
            "overflow_y": null,
            "padding": null,
            "right": null,
            "top": null,
            "visibility": null,
            "width": null
          }
        },
        "b5cf28c8c07b4004be397d4eb121c73e": {
          "model_module": "@jupyter-widgets/controls",
          "model_name": "DescriptionStyleModel",
          "model_module_version": "1.5.0",
          "state": {
            "_model_module": "@jupyter-widgets/controls",
            "_model_module_version": "1.5.0",
            "_model_name": "DescriptionStyleModel",
            "_view_count": null,
            "_view_module": "@jupyter-widgets/base",
            "_view_module_version": "1.2.0",
            "_view_name": "StyleView",
            "description_width": ""
          }
        },
        "01523c8635ab4adeac9acbf60175fce1": {
          "model_module": "@jupyter-widgets/controls",
          "model_name": "ButtonModel",
          "model_module_version": "1.5.0",
          "state": {
            "_dom_classes": [],
            "_model_module": "@jupyter-widgets/controls",
            "_model_module_version": "1.5.0",
            "_model_name": "ButtonModel",
            "_view_count": null,
            "_view_module": "@jupyter-widgets/controls",
            "_view_module_version": "1.5.0",
            "_view_name": "ButtonView",
            "button_style": "",
            "description": "Dự đoán giá thuê",
            "disabled": false,
            "icon": "",
            "layout": "IPY_MODEL_584baa5a391343a5801ba5338fcb9f55",
            "style": "IPY_MODEL_eea10885cae24184a48e2d92b00ef0a0",
            "tooltip": ""
          }
        },
        "584baa5a391343a5801ba5338fcb9f55": {
          "model_module": "@jupyter-widgets/base",
          "model_name": "LayoutModel",
          "model_module_version": "1.2.0",
          "state": {
            "_model_module": "@jupyter-widgets/base",
            "_model_module_version": "1.2.0",
            "_model_name": "LayoutModel",
            "_view_count": null,
            "_view_module": "@jupyter-widgets/base",
            "_view_module_version": "1.2.0",
            "_view_name": "LayoutView",
            "align_content": null,
            "align_items": null,
            "align_self": null,
            "border": null,
            "bottom": null,
            "display": null,
            "flex": null,
            "flex_flow": null,
            "grid_area": null,
            "grid_auto_columns": null,
            "grid_auto_flow": null,
            "grid_auto_rows": null,
            "grid_column": null,
            "grid_gap": null,
            "grid_row": null,
            "grid_template_areas": null,
            "grid_template_columns": null,
            "grid_template_rows": null,
            "height": null,
            "justify_content": null,
            "justify_items": null,
            "left": null,
            "margin": null,
            "max_height": null,
            "max_width": null,
            "min_height": null,
            "min_width": null,
            "object_fit": null,
            "object_position": null,
            "order": null,
            "overflow": null,
            "overflow_x": null,
            "overflow_y": null,
            "padding": null,
            "right": null,
            "top": null,
            "visibility": null,
            "width": null
          }
        },
        "eea10885cae24184a48e2d92b00ef0a0": {
          "model_module": "@jupyter-widgets/controls",
          "model_name": "ButtonStyleModel",
          "model_module_version": "1.5.0",
          "state": {
            "_model_module": "@jupyter-widgets/controls",
            "_model_module_version": "1.5.0",
            "_model_name": "ButtonStyleModel",
            "_view_count": null,
            "_view_module": "@jupyter-widgets/base",
            "_view_module_version": "1.2.0",
            "_view_name": "StyleView",
            "button_color": null,
            "font_weight": ""
          }
        },
        "478d14776f174fcd847276c3e53ed01f": {
          "model_module": "@jupyter-widgets/output",
          "model_name": "OutputModel",
          "model_module_version": "1.0.0",
          "state": {
            "_dom_classes": [],
            "_model_module": "@jupyter-widgets/output",
            "_model_module_version": "1.0.0",
            "_model_name": "OutputModel",
            "_view_count": null,
            "_view_module": "@jupyter-widgets/output",
            "_view_module_version": "1.0.0",
            "_view_name": "OutputView",
            "layout": "IPY_MODEL_665f4a821c7f4492ae9569b005b92962",
            "msg_id": "",
            "outputs": [
              {
                "output_type": "stream",
                "name": "stdout",
                "text": [
                  "Giá thuê dự đoán: 18.59 triệu VND\n"
                ]
              }
            ]
          }
        },
        "665f4a821c7f4492ae9569b005b92962": {
          "model_module": "@jupyter-widgets/base",
          "model_name": "LayoutModel",
          "model_module_version": "1.2.0",
          "state": {
            "_model_module": "@jupyter-widgets/base",
            "_model_module_version": "1.2.0",
            "_model_name": "LayoutModel",
            "_view_count": null,
            "_view_module": "@jupyter-widgets/base",
            "_view_module_version": "1.2.0",
            "_view_name": "LayoutView",
            "align_content": null,
            "align_items": null,
            "align_self": null,
            "border": null,
            "bottom": null,
            "display": null,
            "flex": null,
            "flex_flow": null,
            "grid_area": null,
            "grid_auto_columns": null,
            "grid_auto_flow": null,
            "grid_auto_rows": null,
            "grid_column": null,
            "grid_gap": null,
            "grid_row": null,
            "grid_template_areas": null,
            "grid_template_columns": null,
            "grid_template_rows": null,
            "height": null,
            "justify_content": null,
            "justify_items": null,
            "left": null,
            "margin": null,
            "max_height": null,
            "max_width": null,
            "min_height": null,
            "min_width": null,
            "object_fit": null,
            "object_position": null,
            "order": null,
            "overflow": null,
            "overflow_x": null,
            "overflow_y": null,
            "padding": null,
            "right": null,
            "top": null,
            "visibility": null,
            "width": null
          }
        }
      }
    }
  },
  "nbformat": 4,
  "nbformat_minor": 0
}